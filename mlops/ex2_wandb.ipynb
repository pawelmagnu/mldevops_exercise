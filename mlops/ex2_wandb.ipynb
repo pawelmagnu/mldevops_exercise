{
 "cells": [
  {
   "cell_type": "code",
   "id": "initial_id",
   "metadata": {
    "collapsed": true,
    "ExecuteTime": {
     "end_time": "2024-11-16T21:22:13.636314Z",
     "start_time": "2024-11-16T21:22:08.340240Z"
    }
   },
   "source": [
    "import torch\n",
    "import torch.nn as nn\n",
    "import torch.optim as optim\n",
    "from torchvision import datasets, transforms\n",
    "from torch.utils.data import DataLoader\n",
    "from ex2 import Autoencoder, visualize_reconstruction\n",
    "import wandb\n",
    "\n",
    "# 1. Set device\n",
    "device = torch.device(\"cuda\" if torch.cuda.is_available() else \"cpu\")\n",
    "print(device)"
   ],
   "outputs": [
    {
     "name": "stdout",
     "output_type": "stream",
     "text": [
      "Using cuda device\n",
      "cuda\n"
     ]
    }
   ],
   "execution_count": 1
  },
  {
   "metadata": {
    "ExecuteTime": {
     "end_time": "2024-11-16T21:22:13.652424Z",
     "start_time": "2024-11-16T21:22:13.639294Z"
    }
   },
   "cell_type": "code",
   "source": [
    "def train(model, train_loader, val_loader, criterion, optimizer, epochs=5):\n",
    "    wandb.init(\n",
    "            project=\"my-awesome-project\",\n",
    "            config={\n",
    "            \"learning_rate\": 0.001,\n",
    "            \"architecture\": \"AutoEncoder\",\n",
    "            \"dataset\": \"FashionMNIST\",\n",
    "            \"epochs\": epochs,\n",
    "            }\n",
    "    )\n",
    "    wandb.run.log_code(include_fn=lambda path: path.endswith(\".py\") or path.endswith(\".ipynb\"))\n",
    "    model.train()\n",
    "    for epoch in range(epochs):\n",
    "        running_loss = 0.0\n",
    "        for images, _ in train_loader:  # We don't need the labels for autoencoders\n",
    "            images = images.to(device)\n",
    "\n",
    "            # Forward pass\n",
    "            outputs = model(images)\n",
    "            loss = criterion(outputs, images)  # Compare the output (reconstructed) with the input\n",
    "\n",
    "            # Backward pass and optimization\n",
    "            optimizer.zero_grad()\n",
    "            loss.backward()\n",
    "            optimizer.step()\n",
    "\n",
    "            running_loss += loss.item()\n",
    "        val_loss = 0.0\n",
    "        for images, _ in val_loader:\n",
    "            images = images.to(device)\n",
    "\n",
    "            # Forward pass\n",
    "            outputs = model(images)\n",
    "            loss = criterion(outputs, images)  # Compare the output (reconstructed) with the input\n",
    "            val_loss += loss.item()\n",
    "        wandb.log({\"train_loss\": running_loss, \"val_loss\": val_loss})\n",
    "    wandb.finish()\n",
    "         \n",
    "            "
   ],
   "id": "d482354fd5b9221f",
   "outputs": [],
   "execution_count": 2
  },
  {
   "metadata": {
    "ExecuteTime": {
     "end_time": "2024-11-16T21:22:13.715700Z",
     "start_time": "2024-11-16T21:22:13.654894Z"
    }
   },
   "cell_type": "code",
   "source": [
    "# 2. Load Fashion MNIST dataset\n",
    "transform = transforms.Compose([transforms.ToTensor(), transforms.Normalize((0.5,), (0.5,))])\n",
    "\n",
    "train_dataset = datasets.FashionMNIST(root=\"./data\", train=True, download=True, transform=transform)\n",
    "test_dataset = datasets.FashionMNIST(root=\"./data\", train=False, download=True, transform=transform)\n",
    "\n",
    "train_loader = DataLoader(dataset=train_dataset, batch_size=64, shuffle=True)\n",
    "test_loader = DataLoader(dataset=test_dataset, batch_size=64, shuffle=False)"
   ],
   "id": "753417db118e940f",
   "outputs": [],
   "execution_count": 3
  },
  {
   "metadata": {
    "ExecuteTime": {
     "end_time": "2024-11-16T21:22:13.855196Z",
     "start_time": "2024-11-16T21:22:13.717702Z"
    }
   },
   "cell_type": "code",
   "source": [
    "# Initialize model, loss function, optimizer\n",
    "model = Autoencoder().to(device)\n",
    "criterion = nn.MSELoss()\n",
    "optimizer = optim.Adam(model.parameters(), lr=0.001)"
   ],
   "id": "403e0a1ea19089fe",
   "outputs": [],
   "execution_count": 4
  },
  {
   "metadata": {
    "ExecuteTime": {
     "end_time": "2024-11-16T21:31:01.533650Z",
     "start_time": "2024-11-16T21:22:13.857201Z"
    }
   },
   "cell_type": "code",
   "source": "train(model, train_loader, test_loader, criterion, optimizer, epochs=30)",
   "id": "370a9a8bf85b07aa",
   "outputs": [
    {
     "name": "stderr",
     "output_type": "stream",
     "text": [
      "\u001B[34m\u001B[1mwandb\u001B[0m: Using wandb-core as the SDK backend.  Please refer to https://wandb.me/wandb-core for more information.\n",
      "\u001B[34m\u001B[1mwandb\u001B[0m: Currently logged in as: \u001B[33mpawel-magnu\u001B[0m (\u001B[33mpawel-magnu-agh-university\u001B[0m). Use \u001B[1m`wandb login --relogin`\u001B[0m to force relogin\n"
     ]
    },
    {
     "data": {
      "text/plain": [
       "<IPython.core.display.HTML object>"
      ],
      "text/html": [
       "Tracking run with wandb version 0.18.7"
      ]
     },
     "metadata": {},
     "output_type": "display_data"
    },
    {
     "data": {
      "text/plain": [
       "<IPython.core.display.HTML object>"
      ],
      "text/html": [
       "Run data is saved locally in <code>C:\\Users\\Pawel\\PycharmProjects\\mlops\\mlops\\wandb\\run-20241116_222215-psw2z0dy</code>"
      ]
     },
     "metadata": {},
     "output_type": "display_data"
    },
    {
     "data": {
      "text/plain": [
       "<IPython.core.display.HTML object>"
      ],
      "text/html": [
       "Syncing run <strong><a href='https://wandb.ai/pawel-magnu-agh-university/my-awesome-project/runs/psw2z0dy' target=\"_blank\">charmed-aardvark-5</a></strong> to <a href='https://wandb.ai/pawel-magnu-agh-university/my-awesome-project' target=\"_blank\">Weights & Biases</a> (<a href='https://wandb.me/developer-guide' target=\"_blank\">docs</a>)<br/>"
      ]
     },
     "metadata": {},
     "output_type": "display_data"
    },
    {
     "data": {
      "text/plain": [
       "<IPython.core.display.HTML object>"
      ],
      "text/html": [
       " View project at <a href='https://wandb.ai/pawel-magnu-agh-university/my-awesome-project' target=\"_blank\">https://wandb.ai/pawel-magnu-agh-university/my-awesome-project</a>"
      ]
     },
     "metadata": {},
     "output_type": "display_data"
    },
    {
     "data": {
      "text/plain": [
       "<IPython.core.display.HTML object>"
      ],
      "text/html": [
       " View run at <a href='https://wandb.ai/pawel-magnu-agh-university/my-awesome-project/runs/psw2z0dy' target=\"_blank\">https://wandb.ai/pawel-magnu-agh-university/my-awesome-project/runs/psw2z0dy</a>"
      ]
     },
     "metadata": {},
     "output_type": "display_data"
    },
    {
     "data": {
      "text/plain": [
       "VBox(children=(Label(value='5.084 MB of 5.084 MB uploaded\\r'), FloatProgress(value=1.0, max=1.0)))"
      ],
      "application/vnd.jupyter.widget-view+json": {
       "version_major": 2,
       "version_minor": 0,
       "model_id": "0add41632d9e4a95bee966a504ee627b"
      }
     },
     "metadata": {},
     "output_type": "display_data"
    },
    {
     "data": {
      "text/plain": [
       "<IPython.core.display.HTML object>"
      ],
      "text/html": [
       "\n",
       "    <style>\n",
       "        .wandb-row {\n",
       "            display: flex;\n",
       "            flex-direction: row;\n",
       "            flex-wrap: wrap;\n",
       "            justify-content: flex-start;\n",
       "            width: 100%;\n",
       "        }\n",
       "        .wandb-col {\n",
       "            display: flex;\n",
       "            flex-direction: column;\n",
       "            flex-basis: 100%;\n",
       "            flex: 1;\n",
       "            padding: 10px;\n",
       "        }\n",
       "    </style>\n",
       "<div class=\"wandb-row\"><div class=\"wandb-col\"><h3>Run history:</h3><br/><table class=\"wandb\"><tr><td>train_loss</td><td>█▃▃▃▂▂▂▂▂▂▂▂▂▁▁▁▁▁▁▁▁▁▁▁▁▁▁▁▁▁</td></tr><tr><td>val_loss</td><td>█▆▅▅▄▄▃▃▃▃▃▂▂▂▂▂▂▂▂▁▁▁▁▁▁▁▁▁▁▁</td></tr></table><br/></div><div class=\"wandb-col\"><h3>Run summary:</h3><br/><table class=\"wandb\"><tr><td>train_loss</td><td>554.91599</td></tr><tr><td>val_loss</td><td>92.6133</td></tr></table><br/></div></div>"
      ]
     },
     "metadata": {},
     "output_type": "display_data"
    },
    {
     "data": {
      "text/plain": [
       "<IPython.core.display.HTML object>"
      ],
      "text/html": [
       " View run <strong style=\"color:#cdcd00\">charmed-aardvark-5</strong> at: <a href='https://wandb.ai/pawel-magnu-agh-university/my-awesome-project/runs/psw2z0dy' target=\"_blank\">https://wandb.ai/pawel-magnu-agh-university/my-awesome-project/runs/psw2z0dy</a><br/> View project at: <a href='https://wandb.ai/pawel-magnu-agh-university/my-awesome-project' target=\"_blank\">https://wandb.ai/pawel-magnu-agh-university/my-awesome-project</a><br/>Synced 4 W&B file(s), 0 media file(s), 13 artifact file(s) and 0 other file(s)"
      ]
     },
     "metadata": {},
     "output_type": "display_data"
    },
    {
     "data": {
      "text/plain": [
       "<IPython.core.display.HTML object>"
      ],
      "text/html": [
       "Find logs at: <code>.\\wandb\\run-20241116_222215-psw2z0dy\\logs</code>"
      ]
     },
     "metadata": {},
     "output_type": "display_data"
    }
   ],
   "execution_count": 5
  },
  {
   "metadata": {
    "ExecuteTime": {
     "end_time": "2024-11-16T21:31:01.549679Z",
     "start_time": "2024-11-16T21:31:01.535685Z"
    }
   },
   "cell_type": "code",
   "source": "",
   "id": "b4ded872d5fb960",
   "outputs": [],
   "execution_count": 5
  }
 ],
 "metadata": {
  "kernelspec": {
   "display_name": "Python 3",
   "language": "python",
   "name": "python3"
  },
  "language_info": {
   "codemirror_mode": {
    "name": "ipython",
    "version": 2
   },
   "file_extension": ".py",
   "mimetype": "text/x-python",
   "name": "python",
   "nbconvert_exporter": "python",
   "pygments_lexer": "ipython2",
   "version": "2.7.6"
  }
 },
 "nbformat": 4,
 "nbformat_minor": 5
}
