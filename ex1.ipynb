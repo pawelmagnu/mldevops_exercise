{
 "cells": [
  {
   "cell_type": "code",
   "id": "initial_id",
   "metadata": {
    "collapsed": true,
    "ExecuteTime": {
     "end_time": "2024-10-25T11:44:33.952873Z",
     "start_time": "2024-10-25T11:44:30.090141Z"
    }
   },
   "source": [
    "import torch\n",
    "import torch.nn as nn\n",
    "import torch.optim as optim\n",
    "import torch.nn.functional as F\n",
    "from torchvision import datasets, transforms\n",
    "from torch.utils.data import DataLoader\n",
    "import matplotlib.pyplot as plt\n",
    "\n",
    "# 1. Set device\n",
    "device = torch.device('cuda' if torch.cuda.is_available() else 'cpu')\n",
    "print(device)"
   ],
   "outputs": [
    {
     "name": "stdout",
     "output_type": "stream",
     "text": [
      "cuda\n"
     ]
    }
   ],
   "execution_count": 1
  },
  {
   "metadata": {
    "ExecuteTime": {
     "end_time": "2024-10-25T11:44:33.998993Z",
     "start_time": "2024-10-25T11:44:33.954867Z"
    }
   },
   "cell_type": "code",
   "source": [
    "# 2. Load Fashion MNIST dataset\n",
    "transform = transforms.Compose([transforms.ToTensor(), transforms.Normalize((0.5,), (0.5,))])\n",
    "\n",
    "train_dataset = datasets.FashionMNIST(root='./data', train=True, download=True, transform=transform)\n",
    "test_dataset = datasets.FashionMNIST(root='./data', train=False, download=True, transform=transform)\n",
    "\n",
    "train_loader = DataLoader(dataset=train_dataset, batch_size=64, shuffle=True)\n",
    "test_loader = DataLoader(dataset=test_dataset, batch_size=64, shuffle=False)"
   ],
   "id": "1eaa32bfd2b41848",
   "outputs": [],
   "execution_count": 2
  },
  {
   "metadata": {
    "ExecuteTime": {
     "end_time": "2024-10-25T11:44:34.190975Z",
     "start_time": "2024-10-25T11:44:33.999986Z"
    }
   },
   "cell_type": "code",
   "source": [
    "# 3. Define the ANN model\n",
    "class FashionMNISTModel(nn.Module):\n",
    "    def __init__(self):\n",
    "        super(FashionMNISTModel, self).__init__()\n",
    "        self.fc1 = nn.Linear(28 * 28, 512)  # Input: 784 (28*28), Hidden layer: 512\n",
    "        self.fc2 = nn.Linear(512, 256)      # Hidden layer: 256\n",
    "        self.fc3 = nn.Linear(256, 128)      # Hidden layer: 128\n",
    "        self.fc4 = nn.Linear(128, 10)       # Output: 10 classes\n",
    "\n",
    "    def forward(self, x):\n",
    "        x = x.view(-1, 28 * 28)  # Flatten the input tensor\n",
    "        x = F.relu(self.fc1(x))\n",
    "        x = F.relu(self.fc2(x))\n",
    "        x = F.relu(self.fc3(x))\n",
    "        x = self.fc4(x)\n",
    "        return x\n",
    "\n",
    "# Initialize model, loss, optimizer\n",
    "model = FashionMNISTModel().to(device)\n",
    "criterion = nn.CrossEntropyLoss()\n",
    "optimizer = optim.Adam(model.parameters(), lr=0.001)"
   ],
   "id": "72f578064e376dbd",
   "outputs": [],
   "execution_count": 3
  },
  {
   "metadata": {
    "ExecuteTime": {
     "end_time": "2024-10-25T11:44:34.206926Z",
     "start_time": "2024-10-25T11:44:34.192983Z"
    }
   },
   "cell_type": "code",
   "source": [
    "# 4. Training function\n",
    "def train(model, loader, criterion, optimizer, epochs=5):\n",
    "    model.train()\n",
    "    for epoch in range(epochs):\n",
    "        running_loss = 0.0\n",
    "        for images, labels in loader:\n",
    "            images, labels = images.to(device), labels.to(device)\n",
    "\n",
    "            # Zero the parameter gradients\n",
    "            optimizer.zero_grad()\n",
    "\n",
    "            # Forward pass\n",
    "            outputs = model(images)\n",
    "            loss = criterion(outputs, labels)\n",
    "\n",
    "            # Backward pass and optimization\n",
    "            loss.backward()\n",
    "            optimizer.step()\n",
    "\n",
    "            running_loss += loss.item()\n",
    "\n",
    "        print(f'Epoch [{epoch+1}/{epochs}], Loss: {running_loss/len(loader):.4f}')\n",
    "\n",
    "# 5. Evaluate function\n",
    "def evaluate(model, loader):\n",
    "    model.eval()\n",
    "    correct = 0\n",
    "    total = 0\n",
    "    with torch.no_grad():\n",
    "        for images, labels in loader:\n",
    "            images, labels = images.to(device), labels.to(device)\n",
    "            outputs = model(images)\n",
    "            _, predicted = torch.max(outputs.data, 1)\n",
    "            total += labels.size(0)\n",
    "            correct += (predicted == labels).sum().item()\n",
    "\n",
    "    accuracy = 100 * correct / total\n",
    "    print(f'Test Accuracy: {accuracy:.2f}%')"
   ],
   "id": "2febc3e2979f3dba",
   "outputs": [],
   "execution_count": 4
  },
  {
   "metadata": {
    "ExecuteTime": {
     "end_time": "2024-10-25T11:44:34.610829Z",
     "start_time": "2024-10-25T11:44:34.208925Z"
    }
   },
   "cell_type": "code",
   "source": [
    "# 6. Visualize some predictions\n",
    "def visualize_predictions(model, loader):\n",
    "    model.eval()\n",
    "    images, labels = next(iter(loader))\n",
    "    images, labels = images.to(device), labels.to(device)\n",
    "    outputs = model(images)\n",
    "    _, preds = torch.max(outputs, 1)\n",
    "\n",
    "    # Plot the first 10 test images and their predicted labels\n",
    "    fig = plt.figure(figsize=(10, 5))\n",
    "    for idx in range(10):\n",
    "        ax = fig.add_subplot(2, 5, idx+1, xticks=[], yticks=[])\n",
    "        ax.imshow(images[idx].cpu().reshape(28, 28), cmap='gray')\n",
    "        ax.set_title(f'Pred: {preds[idx].item()}')\n",
    "    plt.show()"
   ],
   "id": "f904a3c697a08ab3",
   "outputs": [],
   "execution_count": 5
  },
  {
   "metadata": {
    "ExecuteTime": {
     "end_time": "2024-10-25T11:56:24.198960Z",
     "start_time": "2024-10-25T11:44:34.611810Z"
    }
   },
   "cell_type": "code",
   "source": [
    "# 7. Train the model\n",
    "train(model, train_loader, criterion, optimizer, epochs=50)"
   ],
   "id": "f70c937288c6e368",
   "outputs": [
    {
     "name": "stdout",
     "output_type": "stream",
     "text": [
      "Epoch [1/50], Loss: 0.5016\n",
      "Epoch [2/50], Loss: 0.3698\n",
      "Epoch [3/50], Loss: 0.3343\n",
      "Epoch [4/50], Loss: 0.3064\n",
      "Epoch [5/50], Loss: 0.2849\n",
      "Epoch [6/50], Loss: 0.2696\n",
      "Epoch [7/50], Loss: 0.2538\n",
      "Epoch [8/50], Loss: 0.2427\n",
      "Epoch [9/50], Loss: 0.2314\n",
      "Epoch [10/50], Loss: 0.2156\n",
      "Epoch [11/50], Loss: 0.2078\n",
      "Epoch [12/50], Loss: 0.1970\n",
      "Epoch [13/50], Loss: 0.1869\n",
      "Epoch [14/50], Loss: 0.1808\n",
      "Epoch [15/50], Loss: 0.1697\n",
      "Epoch [16/50], Loss: 0.1633\n",
      "Epoch [17/50], Loss: 0.1539\n",
      "Epoch [18/50], Loss: 0.1523\n",
      "Epoch [19/50], Loss: 0.1457\n",
      "Epoch [20/50], Loss: 0.1384\n",
      "Epoch [21/50], Loss: 0.1296\n",
      "Epoch [22/50], Loss: 0.1265\n",
      "Epoch [23/50], Loss: 0.1218\n",
      "Epoch [24/50], Loss: 0.1145\n",
      "Epoch [25/50], Loss: 0.1112\n",
      "Epoch [26/50], Loss: 0.1076\n",
      "Epoch [27/50], Loss: 0.1066\n",
      "Epoch [28/50], Loss: 0.1008\n",
      "Epoch [29/50], Loss: 0.0974\n",
      "Epoch [30/50], Loss: 0.0966\n",
      "Epoch [31/50], Loss: 0.0867\n",
      "Epoch [32/50], Loss: 0.0890\n",
      "Epoch [33/50], Loss: 0.0859\n",
      "Epoch [34/50], Loss: 0.0832\n",
      "Epoch [35/50], Loss: 0.0810\n",
      "Epoch [36/50], Loss: 0.0749\n",
      "Epoch [37/50], Loss: 0.0785\n",
      "Epoch [38/50], Loss: 0.0744\n",
      "Epoch [39/50], Loss: 0.0733\n",
      "Epoch [40/50], Loss: 0.0710\n",
      "Epoch [41/50], Loss: 0.0671\n",
      "Epoch [42/50], Loss: 0.0644\n",
      "Epoch [43/50], Loss: 0.0665\n",
      "Epoch [44/50], Loss: 0.0629\n",
      "Epoch [45/50], Loss: 0.0613\n",
      "Epoch [46/50], Loss: 0.0614\n",
      "Epoch [47/50], Loss: 0.0604\n",
      "Epoch [48/50], Loss: 0.0625\n",
      "Epoch [49/50], Loss: 0.0561\n",
      "Epoch [50/50], Loss: 0.0573\n"
     ]
    }
   ],
   "execution_count": 6
  },
  {
   "metadata": {
    "ExecuteTime": {
     "end_time": "2024-10-25T11:56:26.656729Z",
     "start_time": "2024-10-25T11:56:24.200961Z"
    }
   },
   "cell_type": "code",
   "source": [
    "# 8. Evaluate the model on test data\n",
    "evaluate(model, test_loader)\n",
    "\n",
    "# 9. Visualize predictions\n",
    "visualize_predictions(model, test_loader)"
   ],
   "id": "5abcaf58a23be561",
   "outputs": [
    {
     "name": "stdout",
     "output_type": "stream",
     "text": [
      "Test Accuracy: 88.91%\n"
     ]
    },
    {
     "data": {
      "text/plain": [
       "<Figure size 1000x500 with 10 Axes>"
      ],
      "image/png": "[encoded data removed]"
     },
     "metadata": {},
     "output_type": "display_data"
    }
   ],
   "execution_count": 7
  },
  {
   "metadata": {
    "ExecuteTime": {
     "end_time": "2024-10-25T11:56:26.672751Z",
     "start_time": "2024-10-25T11:56:26.657717Z"
    }
   },
   "cell_type": "code",
   "source": [
    "# 10. Save model\n",
    "torch.save(model.state_dict(), 'fashion_mnist_model.pth')"
   ],
   "id": "a43f60f1fa1fbfe7",
   "outputs": [],
   "execution_count": 8
  }
 ],
 "metadata": {
  "kernelspec": {
   "display_name": "Python 3",
   "language": "python",
   "name": "python3"
  },
  "language_info": {
   "codemirror_mode": {
    "name": "ipython",
    "version": 2
   },
   "file_extension": ".py",
   "mimetype": "text/x-python",
   "name": "python",
   "nbconvert_exporter": "python",
   "pygments_lexer": "ipython2",
   "version": "2.7.6"
  }
 },
 "nbformat": 4,
 "nbformat_minor": 5
}
